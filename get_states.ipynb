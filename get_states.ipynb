{
 "cells": [
  {
   "cell_type": "markdown",
   "metadata": {},
   "source": [
    "# Get all board states used in menace"
   ]
  },
  {
   "cell_type": "markdown",
   "metadata": {},
   "source": [
    "This should be 304 states   \n",
    "X always start"
   ]
  },
  {
   "cell_type": "code",
   "execution_count": 2,
   "metadata": {},
   "outputs": [],
   "source": [
    "import itertools\n",
    "\n",
    "def is_winner(board):\n",
    "    win_conditions = [\n",
    "        [0,1,2], [3,4,5], [6,7,8],  # lines\n",
    "        [0,3,6], [1,4,7], [2,5,8],  # columns\n",
    "        [0,4,8], [2,4,6],           # diagonals\n",
    "    ]\n",
    "\n",
    "    for player in ['X', 'O']:\n",
    "        for condition in win_conditions:\n",
    "            if all(board[i] == player for i in condition):\n",
    "                return True\n",
    "    \n",
    "    return False\n",
    "\n",
    "def generate_symmetries(board):\n",
    "    indices_list = [\n",
    "        [0,1,2,3,4,5,6,7,8],  # Indentity\n",
    "        [2,5,8,1,4,7,0,3,6],  # Rotation 90°\n",
    "        [8,7,6,5,4,3,2,1,0],  # Rotation 180°\n",
    "        [6,3,0,7,4,1,8,5,2],  # Rotation 270°\n",
    "        [2,1,0,5,4,3,8,7,6],  # Horizontal mirror\n",
    "        [6,7,8,3,4,5,0,1,2],  # vertical mirror\n",
    "        [8,5,2,7,4,1,6,3,0],  # diagonal mirror \\\n",
    "        [0,3,6,1,4,7,2,5,8],  # diagonal mirror /\n",
    "    ]\n",
    "    \n",
    "    symmetries = set()\n",
    "    for indices in indices_list:\n",
    "        transformed = tuple(board[i] for i in indices)\n",
    "        symmetries.add(transformed)\n",
    "        \n",
    "    return symmetries\n",
    "\n",
    "def remove_symmetries(board_list):\n",
    "    unique_boards = []\n",
    "    visited_boards = set()\n",
    "\n",
    "    for board in board_list:\n",
    "        symmetries = generate_symmetries(board)\n",
    "        if not any(symmetry in visited_boards for symmetry in symmetries):\n",
    "            unique_boards.append(board)\n",
    "            visited_boards.update(symmetries)\n",
    "\n",
    "    return unique_boards\n",
    "\n",
    "\n",
    "def print_board(board):\n",
    "    print('\\n'.join([''.join(board[i:i+3]) for i in range(0,9,3)]))\n",
    "\n",
    "\n",
    "def next_states(board):\n",
    "    next_player = 'O'\n",
    "    if board.count('X') == board.count('O'):\n",
    "        next_player = 'X'\n",
    "    \n",
    "    states = []\n",
    "    for i, square in enumerate(board):\n",
    "        if square == \"_\":\n",
    "            next_board = board.copy()\n",
    "            next_board[i] = next_player\n",
    "            states.append(next_board)\n",
    "\n",
    "    return states"
   ]
  },
  {
   "cell_type": "code",
   "execution_count": 5,
   "metadata": {},
   "outputs": [
    {
     "name": "stdout",
     "output_type": "stream",
     "text": [
      "Unique states: 765\n",
      "x_turn_states states: 338\n",
      "no_last_move states: 304\n"
     ]
    }
   ],
   "source": [
    "def generate_all_states(board, visited_states):\n",
    "    if is_winner(board):\n",
    "        return\n",
    "\n",
    "    for next_board in next_states(board):\n",
    "        symmetries = generate_symmetries(next_board)\n",
    "        if not any(symmetry in visited_states for symmetry in symmetries):\n",
    "            visited_states.add(tuple(next_board))\n",
    "            generate_all_states(next_board, visited_states)\n",
    "\n",
    "# valid to be a box in menace\n",
    "def is_valid_state(board):\n",
    "    if is_winner(board):\n",
    "        return False\n",
    "    \n",
    "    return board.count('X') == board.count('O')\n",
    "\n",
    "starting_board = ['_'] * 9\n",
    "\n",
    "visited_states = set()\n",
    "visited_states.add(tuple(starting_board))\n",
    "\n",
    "generate_all_states(starting_board, visited_states)\n",
    "\n",
    "all_unique_states = list(visited_states)\n",
    "\n",
    "x_turn_states = list(filter(is_valid_state, all_unique_states))\n",
    "no_last_move = list(filter(lambda board: board.count('_') != 1, x_turn_states))\n",
    "no_last_move_unique = remove_symmetries(no_last_move)\n",
    "\n",
    "print(f\"Unique states: {len(all_unique_states)}\")\n",
    "print(f\"x_turn_states states: {len(x_turn_states)}\")\n",
    "print(f\"no_last_move states: {len(no_last_move_unique)}\")"
   ]
  },
  {
   "cell_type": "markdown",
   "metadata": {},
   "source": [
    "# Divide all boards by move count"
   ]
  },
  {
   "cell_type": "code",
   "execution_count": 11,
   "metadata": {},
   "outputs": [
    {
     "name": "stdout",
     "output_type": "stream",
     "text": [
      "Move count 3: 183 boards\n",
      "Move count 2: 108 boards\n",
      "Move count 0: 1 boards\n",
      "Move count 1: 12 boards\n"
     ]
    }
   ],
   "source": [
    "from collections import defaultdict\n",
    "\n",
    "def split_by_moves(board_list):\n",
    "    split_dict = defaultdict(list)\n",
    "    for board in board_list:\n",
    "        move_count = board.count('X')\n",
    "        split_dict[move_count].append(board)\n",
    "    return split_dict\n",
    "\n",
    "split_boards = split_by_moves(no_last_move_unique)\n",
    "\n",
    "for move_count, boards in split_boards.items():\n",
    "    print(f\"Move count {move_count}: {len(boards)} boards\")\n"
   ]
  },
  {
   "cell_type": "code",
   "execution_count": 12,
   "metadata": {},
   "outputs": [],
   "source": [
    "import json\n",
    "\n",
    "with open(\"all_boards.json\", \"w\") as outfile: \n",
    "    json.dump(split_boards, outfile)"
   ]
  }
 ],
 "metadata": {
  "kernelspec": {
   "display_name": "base",
   "language": "python",
   "name": "python3"
  },
  "language_info": {
   "codemirror_mode": {
    "name": "ipython",
    "version": 3
   },
   "file_extension": ".py",
   "mimetype": "text/x-python",
   "name": "python",
   "nbconvert_exporter": "python",
   "pygments_lexer": "ipython3",
   "version": "3.11.5"
  }
 },
 "nbformat": 4,
 "nbformat_minor": 2
}
