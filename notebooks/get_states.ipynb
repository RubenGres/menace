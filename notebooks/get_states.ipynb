{
 "cells": [
  {
   "cell_type": "markdown",
   "metadata": {},
   "source": [
    "# Get all board states used in menace"
   ]
  },
  {
   "cell_type": "markdown",
   "metadata": {},
   "source": [
    "There should be should be 304 states used in menace, if you account for symetries and the fact that you only account for states where it's X (menac e) turn.  \n",
    "This script generates a all_states json with the move count, state id and the board state itself.  \n",
    "You can create all the labels files using the create_labels_svg notebook and the state json."
   ]
  },
  {
   "cell_type": "code",
   "execution_count": 1,
   "metadata": {},
   "outputs": [],
   "source": [
    "import itertools\n",
    "\n",
    "def is_winner(board):\n",
    "    win_conditions = [\n",
    "        [0,1,2], [3,4,5], [6,7,8],  # lines\n",
    "        [0,3,6], [1,4,7], [2,5,8],  # columns\n",
    "        [0,4,8], [2,4,6],           # diagonals\n",
    "    ]\n",
    "\n",
    "    for player in ['X', 'O']:\n",
    "        for condition in win_conditions:\n",
    "            if all(board[i] == player for i in condition):\n",
    "                return True\n",
    "    \n",
    "    return False\n",
    "\n",
    "def generate_symmetries(board):\n",
    "    indices_list = [\n",
    "        [0,1,2,3,4,5,6,7,8],  # Indentity\n",
    "        [2,5,8,1,4,7,0,3,6],  # Rotation 90°\n",
    "        [8,7,6,5,4,3,2,1,0],  # Rotation 180°\n",
    "        [6,3,0,7,4,1,8,5,2],  # Rotation 270°\n",
    "        [2,1,0,5,4,3,8,7,6],  # Horizontal mirror\n",
    "        [6,7,8,3,4,5,0,1,2],  # vertical mirror\n",
    "        [8,5,2,7,4,1,6,3,0],  # diagonal mirror \\\n",
    "        [0,3,6,1,4,7,2,5,8],  # diagonal mirror /\n",
    "    ]\n",
    "    \n",
    "    symmetries = set()\n",
    "    for indices in indices_list:\n",
    "        transformed = tuple(board[i] for i in indices)\n",
    "        symmetries.add(transformed)\n",
    "        \n",
    "    return symmetries\n",
    "\n",
    "def remove_symmetries(board_list):\n",
    "    unique_boards = []\n",
    "    visited_boards = set()\n",
    "\n",
    "    for board in board_list:\n",
    "        symmetries = generate_symmetries(board)\n",
    "        \n",
    "        chosen_board = max(symmetries)\n",
    "        \n",
    "        if chosen_board not in visited_boards:\n",
    "            unique_boards.append(chosen_board)\n",
    "            visited_boards.update(symmetries)\n",
    "\n",
    "    return unique_boards\n",
    "\n",
    "\n",
    "def print_board(board):\n",
    "    print('\\n'.join([''.join(board[i:i+3]) for i in range(0,9,3)]))\n",
    "\n",
    "\n",
    "def next_states(board):\n",
    "    next_player = 'O'\n",
    "    if board.count('X') == board.count('O'):\n",
    "        next_player = 'X'\n",
    "    \n",
    "    states = []\n",
    "    for i, square in enumerate(board):\n",
    "        if square == \"_\":\n",
    "            next_board = board.copy()\n",
    "            next_board[i] = next_player\n",
    "            states.append(next_board)\n",
    "\n",
    "    return states"
   ]
  },
  {
   "cell_type": "code",
   "execution_count": 2,
   "metadata": {},
   "outputs": [
    {
     "name": "stdout",
     "output_type": "stream",
     "text": [
      "Unique states: 765\n",
      "x_turn_states states: 338\n",
      "no_last_move states: 304\n"
     ]
    }
   ],
   "source": [
    "def generate_all_states(board, visited_states):\n",
    "    if is_winner(board):\n",
    "        return\n",
    "\n",
    "    for next_board in next_states(board):\n",
    "        symmetries = generate_symmetries(next_board)\n",
    "        if not any(symmetry in visited_states for symmetry in symmetries):\n",
    "            visited_states.add(tuple(next_board))\n",
    "            generate_all_states(next_board, visited_states)\n",
    "\n",
    "# valid to be a box in menace\n",
    "def is_valid_state(board):\n",
    "    if is_winner(board):\n",
    "        return False\n",
    "    \n",
    "    return board.count('X') == board.count('O')\n",
    "\n",
    "starting_board = ['_'] * 9\n",
    "\n",
    "visited_states = set()\n",
    "visited_states.add(tuple(starting_board))\n",
    "\n",
    "generate_all_states(starting_board, visited_states)\n",
    "\n",
    "all_unique_states = list(visited_states)\n",
    "\n",
    "x_turn_states = list(filter(is_valid_state, all_unique_states))\n",
    "no_last_move = list(filter(lambda board: board.count('_') != 1, x_turn_states))\n",
    "no_last_move_unique = remove_symmetries(no_last_move)\n",
    "\n",
    "print(f\"Unique states: {len(all_unique_states)}\")\n",
    "print(f\"x_turn_states states: {len(x_turn_states)}\")\n",
    "print(f\"no_last_move states: {len(no_last_move_unique)}\")"
   ]
  },
  {
   "cell_type": "markdown",
   "metadata": {},
   "source": [
    "# Divide all boards by move count"
   ]
  },
  {
   "cell_type": "code",
   "execution_count": 3,
   "metadata": {},
   "outputs": [],
   "source": [
    "all_states = [x[::-1] for x in no_last_move_unique]\n",
    "all_states.sort()\n",
    "all_states.reverse()"
   ]
  },
  {
   "cell_type": "code",
   "execution_count": 4,
   "metadata": {},
   "outputs": [
    {
     "name": "stdout",
     "output_type": "stream",
     "text": [
      "Move count 0: 1 boards\n",
      "Move count 1: 12 boards\n",
      "Move count 2: 108 boards\n",
      "Move count 3: 183 boards\n"
     ]
    }
   ],
   "source": [
    "from collections import defaultdict\n",
    "\n",
    "def split_by_moves(board_list):\n",
    "    split_dict = defaultdict(list)\n",
    "    for board in board_list:\n",
    "        move_count = board.count('X')\n",
    "        split_dict[move_count].append(board)\n",
    "    return split_dict\n",
    "\n",
    "split_boards = split_by_moves(all_states)\n",
    "\n",
    "for move_count, boards in split_boards.items():\n",
    "    print(f\"Move count {move_count}: {len(boards)} boards\")\n"
   ]
  },
  {
   "cell_type": "markdown",
   "metadata": {},
   "source": [
    "## Assign unique id to each state to label the box"
   ]
  },
  {
   "cell_type": "code",
   "execution_count": 5,
   "metadata": {},
   "outputs": [],
   "source": [
    "def assign_ids(split_boards):\n",
    "    unique_id = 0\n",
    "    board_with_ids = {}\n",
    "    \n",
    "    # Sort the split_boards dictionary by move count (keys)\n",
    "    for move_count in sorted(split_boards.keys()):\n",
    "        board_with_ids_count = {}\n",
    "        for board in split_boards[move_count]:\n",
    "            board_with_ids_count[unique_id] = board\n",
    "            unique_id += 1\n",
    "        board_with_ids[move_count] = board_with_ids_count\n",
    "            \n",
    "    return board_with_ids\n",
    "\n",
    "board_with_ids = assign_ids(split_boards)"
   ]
  },
  {
   "cell_type": "markdown",
   "metadata": {},
   "source": [
    "# Save as JSON"
   ]
  },
  {
   "cell_type": "code",
   "execution_count": 6,
   "metadata": {},
   "outputs": [],
   "source": [
    "import json\n",
    "\n",
    "split_boards[0]\n",
    "\n",
    "with open(\"all_states.json\", \"w\") as outfile: \n",
    "    json.dump(board_with_ids, outfile, indent=4)"
   ]
  }
 ],
 "metadata": {
  "kernelspec": {
   "display_name": "Python 3 (ipykernel)",
   "language": "python",
   "name": "python3"
  },
  "language_info": {
   "codemirror_mode": {
    "name": "ipython",
    "version": 3
   },
   "file_extension": ".py",
   "mimetype": "text/x-python",
   "name": "python",
   "nbconvert_exporter": "python",
   "pygments_lexer": "ipython3",
   "version": "3.12.1"
  }
 },
 "nbformat": 4,
 "nbformat_minor": 2
}
