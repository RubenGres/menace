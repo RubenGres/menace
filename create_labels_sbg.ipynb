{
 "cells": [
  {
   "cell_type": "markdown",
   "metadata": {},
   "source": [
    "# Create the svg to print menace labels"
   ]
  },
  {
   "cell_type": "markdown",
   "metadata": {},
   "source": [
    "Using the all_states.json file generated with the get_states notebook, create the svg file that will be used to print the labels for each box.   \n",
    "The labels are split in 4 files, each representing a move. For better results print each of theses in a different color! :)"
   ]
  },
  {
   "cell_type": "code",
   "execution_count": 96,
   "metadata": {},
   "outputs": [],
   "source": [
    "import json\n",
    "import os"
   ]
  },
  {
   "cell_type": "code",
   "execution_count": 97,
   "metadata": {},
   "outputs": [],
   "source": [
    "# load file\n",
    "with open('all_states.json', 'r') as f:\n",
    "    states = json.load(f)"
   ]
  },
  {
   "cell_type": "code",
   "execution_count": 98,
   "metadata": {},
   "outputs": [],
   "source": [
    "def draw_board(board, x_offset, y_offset, cell_size, item_scale=0.5, stroke_width=2):\n",
    "    svg_elements = []\n",
    "\n",
    "    grid_size = cell_size * 3\n",
    "\n",
    "    # drawing the board grid\n",
    "    for i in range(1, 3):\n",
    "        x = x_offset + i * cell_size\n",
    "        svg_elements.append(f'<line x1=\"{x}\" y1=\"{y_offset}\" x2=\"{x}\" y2=\"{y_offset + grid_size}\" stroke=\"black\" />')\n",
    "    \n",
    "    for i in range(1, 3):\n",
    "        y = y_offset + i * cell_size\n",
    "        svg_elements.append(f'<line x1=\"{x_offset}\" y1=\"{y}\" x2=\"{x_offset + grid_size}\" y2=\"{y}\" stroke=\"black\" />')\n",
    "\n",
    "    # drawing the X and O\n",
    "    for idx, val in enumerate(board):\n",
    "        col = idx % 3\n",
    "        row = idx // 3\n",
    "        \n",
    "        # center of the cell\n",
    "        cx = x_offset + col * cell_size + cell_size / 2\n",
    "        cy = y_offset + row * cell_size + cell_size / 2\n",
    "\n",
    "        # draw X \n",
    "        if val == 'X':\n",
    "            x1 = cx - (cell_size/2) * item_scale\n",
    "            y1 = cy - (cell_size/2) * item_scale\n",
    "            x2 = cx + (cell_size/2) * item_scale\n",
    "            y2 = cy + (cell_size/2) * item_scale\n",
    "            \n",
    "            svg_elements.append(f'<line x1=\"{x1}\" y1=\"{y1}\" x2=\"{x2}\" y2=\"{y2}\" stroke=\"blue\" stroke-width=\"{stroke_width}\"/>')\n",
    "            svg_elements.append(f'<line x1=\"{x1}\" y1=\"{y2}\" x2=\"{x2}\" y2=\"{y1}\" stroke=\"blue\" stroke-width=\"{stroke_width}\"/>')\n",
    "        \n",
    "        # draw O\n",
    "        elif val == 'O':\n",
    "            r = item_scale/2 * cell_size\n",
    "            svg_elements.append(f'<circle cx=\"{cx}\" cy=\"{cy}\" r=\"{r}\" stroke=\"red\" fill=\"none\" stroke-width=\"2\"/>')\n",
    "\n",
    "    return '\\n'.join(svg_elements)"
   ]
  },
  {
   "cell_type": "code",
   "execution_count": 99,
   "metadata": {},
   "outputs": [],
   "source": [
    "def draw_label(board, state_id, x_offset, y_offset, cell_size, font_size=25):\n",
    "    svg_elements = []\n",
    "\n",
    "    # Draw the board\n",
    "    board_svg = draw_board(board, x_offset, y_offset, cell_size)\n",
    "    svg_elements.append(board_svg)\n",
    "\n",
    "    # Draw the state ID next to the board\n",
    "    grid_size = cell_size * 3\n",
    "    text_x = x_offset + grid_size + 10\n",
    "    text_y = y_offset + grid_size / 2 + 5\n",
    "    svg_elements.append(f'<text x=\"{text_x}\" y=\"{text_y}\" font-size=\"{font_size}\" fill=\"black\">{state_id}</text>')\n",
    "\n",
    "    return '\\n'.join(svg_elements)"
   ]
  },
  {
   "cell_type": "code",
   "execution_count": 100,
   "metadata": {},
   "outputs": [],
   "source": [
    "for move_number, states in states.items():\n",
    "    svg_elements = []\n",
    "\n",
    "    num_states = len(states)\n",
    "    cell_size = 10\n",
    "    board_width = cell_size * 3\n",
    "    board_height = cell_size * 3\n",
    "    label_width = board_width + 100  # Width including space for state ID\n",
    "    label_height = board_height + 20  # Height including spacing\n",
    "\n",
    "    num_columns = 4  # Number of columns in the grid\n",
    "    num_rows = (num_states + num_columns - 1) // num_columns\n",
    "    total_width = num_columns * label_width + 20\n",
    "    total_height = num_rows * label_height + 20\n",
    "\n",
    "    # SVG header\n",
    "    svg_header = f'<svg xmlns=\"http://www.w3.org/2000/svg\" width=\"{total_width}\" height=\"{total_height}\">'\n",
    "    svg_elements.append(svg_header)\n",
    "\n",
    "    idx = 0\n",
    "    for state_id, board in states.items():\n",
    "        col = idx % num_columns\n",
    "        row = idx // num_columns\n",
    "        x_offset = col * label_width + 20\n",
    "        y_offset = row * label_height + 20\n",
    "\n",
    "        svg_code = draw_label(board, state_id, x_offset, y_offset, cell_size)\n",
    "        svg_elements.append(svg_code)\n",
    "        idx += 1\n",
    "\n",
    "    svg_elements.append('</svg>')\n",
    "\n",
    "    svg_content = '\\n'.join(svg_elements)\n",
    "\n",
    "    # save the svg in the ./svg/ directory\n",
    "    os.makedirs(\"./svg\", exist_ok=True)\n",
    "    filename = f'svg/move_{move_number}.svg'\n",
    "    with open(filename, 'w') as f:\n",
    "        f.write(svg_content)"
   ]
  },
  {
   "cell_type": "code",
   "execution_count": null,
   "metadata": {},
   "outputs": [],
   "source": []
  }
 ],
 "metadata": {
  "kernelspec": {
   "display_name": "Python 3",
   "language": "python",
   "name": "python3"
  },
  "language_info": {
   "codemirror_mode": {
    "name": "ipython",
    "version": 3
   },
   "file_extension": ".py",
   "mimetype": "text/x-python",
   "name": "python",
   "nbconvert_exporter": "python",
   "pygments_lexer": "ipython3",
   "version": "3.11.2"
  }
 },
 "nbformat": 4,
 "nbformat_minor": 2
}
