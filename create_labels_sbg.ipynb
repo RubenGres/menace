{
 "cells": [
  {
   "cell_type": "markdown",
   "metadata": {},
   "source": [
    "# Create the svg to print menace labels"
   ]
  },
  {
   "cell_type": "markdown",
   "metadata": {},
   "source": [
    "Using the all_states.json file generated with the get_states notebook, create the svg file that will be used to print the labels for each box.   \n",
    "\n",
    "The labels are split in 4 files, each representing a move. For better results print each of theses in a different color! :)  \n",
    "\n",
    "Each label is 36mm x 11mm to fit the matchbox"
   ]
  },
  {
   "cell_type": "code",
   "execution_count": 27,
   "metadata": {},
   "outputs": [],
   "source": [
    "import json\n",
    "import os"
   ]
  },
  {
   "cell_type": "code",
   "execution_count": 28,
   "metadata": {},
   "outputs": [],
   "source": [
    "# load file\n",
    "with open('all_states.json', 'r') as f:\n",
    "    states = json.load(f)"
   ]
  },
  {
   "cell_type": "code",
   "execution_count": 29,
   "metadata": {},
   "outputs": [],
   "source": [
    "def draw_board(board, x_offset, y_offset, cell_size, item_scale=0.5, stroke_width=2):\n",
    "    svg_elements = []\n",
    "\n",
    "    grid_size = cell_size * 3\n",
    "\n",
    "    # drawing the board grid\n",
    "    for i in range(1, 3):\n",
    "        x = x_offset + i * cell_size\n",
    "        svg_elements.append(f'<line x1=\"{x}\" y1=\"{y_offset}\" x2=\"{x}\" y2=\"{y_offset + grid_size}\" stroke=\"black\" />')\n",
    "    \n",
    "    for i in range(1, 3):\n",
    "        y = y_offset + i * cell_size\n",
    "        svg_elements.append(f'<line x1=\"{x_offset}\" y1=\"{y}\" x2=\"{x_offset + grid_size}\" y2=\"{y}\" stroke=\"black\" />')\n",
    "\n",
    "    # drawing the X and O\n",
    "    for idx, val in enumerate(board):\n",
    "        col = idx % 3\n",
    "        row = idx // 3\n",
    "        \n",
    "        # center of the cell\n",
    "        cx = x_offset + col * cell_size + cell_size / 2\n",
    "        cy = y_offset + row * cell_size + cell_size / 2\n",
    "\n",
    "        # draw X \n",
    "        if val == 'X':\n",
    "            x1 = cx - (cell_size/2) * item_scale\n",
    "            y1 = cy - (cell_size/2) * item_scale\n",
    "            x2 = cx + (cell_size/2) * item_scale\n",
    "            y2 = cy + (cell_size/2) * item_scale\n",
    "            \n",
    "            svg_elements.append(f'<line x1=\"{x1}\" y1=\"{y1}\" x2=\"{x2}\" y2=\"{y2}\" stroke=\"black\" stroke-width=\"{stroke_width}\"/>')\n",
    "            svg_elements.append(f'<line x1=\"{x1}\" y1=\"{y2}\" x2=\"{x2}\" y2=\"{y1}\" stroke=\"black\" stroke-width=\"{stroke_width}\"/>')\n",
    "        \n",
    "        # draw O\n",
    "        elif val == 'O':\n",
    "            r = item_scale/2 * cell_size\n",
    "            svg_elements.append(f'<circle cx=\"{cx}\" cy=\"{cy}\" r=\"{r}\" stroke=\"black\" fill=\"none\" stroke-width=\"2\"/>')\n",
    "\n",
    "    return '\\n'.join(svg_elements)"
   ]
  },
  {
   "cell_type": "code",
   "execution_count": 30,
   "metadata": {},
   "outputs": [],
   "source": [
    "def draw_label(board, state_id, x_offset, y_offset, cell_size, font_size=27, width_px=136, height_px=41):\n",
    "    svg_elements = []\n",
    "    \n",
    "    # padding and margins in px\n",
    "    label_padding_x = 10\n",
    "    label_padding_y = 2\n",
    "    text_margin_x = 40\n",
    "    text_margin_y = font_size / 3\n",
    "\n",
    "    # draw board\n",
    "    board_svg = draw_board(board, label_padding_x + x_offset, label_padding_y + y_offset, cell_size)\n",
    "    svg_elements.append(board_svg)\n",
    "\n",
    "    # draw text\n",
    "    grid_size = cell_size * 3\n",
    "    \n",
    "    text_x = x_offset + grid_size + text_margin_x\n",
    "    text_y = y_offset + grid_size / 2 + text_margin_y\n",
    "    \n",
    "    text_x += label_padding_x\n",
    "    text_y += label_padding_y\n",
    "    \n",
    "    svg_elements.append(f'<text x=\"{text_x}\" y=\"{text_y}\" font-size=\"{font_size}\" fill=\"black\">{state_id}</text>')\n",
    "\n",
    "    # draw label rectangle\n",
    "    rect_x = x_offset\n",
    "    rect_y = y_offset\n",
    "    svg_elements.append(\n",
    "        f'<rect x=\"{rect_x}\" y=\"{rect_y}\" width=\"{width_px}\" height=\"{height_px}\" stroke=\"red\" fill=\"none\" rx=\"10\" ry=\"10\"/>'\n",
    "    )\n",
    "\n",
    "    return '\\n'.join(svg_elements)"
   ]
  },
  {
   "cell_type": "code",
   "execution_count": 37,
   "metadata": {},
   "outputs": [
    {
     "data": {
      "text/plain": [
       "5"
      ]
     },
     "execution_count": 37,
     "metadata": {},
     "output_type": "execute_result"
    }
   ],
   "source": [
    "import math\n",
    "\n",
    "mm_to_px = 96 / 25.4 # at 96 DPI\n",
    "label_width_px = 36 * mm_to_px\n",
    "label_height_px = 11 * mm_to_px\n",
    "cell_size = 12\n",
    "num_columns = math.floor(210 * mm_to_px / label_width_px) # A4 paper is 210mm across\n",
    "num_columns"
   ]
  },
  {
   "cell_type": "code",
   "execution_count": 35,
   "metadata": {},
   "outputs": [
    {
     "ename": "AttributeError",
     "evalue": "'list' object has no attribute 'items'",
     "output_type": "error",
     "traceback": [
      "\u001b[0;31m---------------------------------------------------------------------------\u001b[0m",
      "\u001b[0;31mAttributeError\u001b[0m                            Traceback (most recent call last)",
      "Cell \u001b[0;32mIn[35], line 1\u001b[0m\n\u001b[0;32m----> 1\u001b[0m \u001b[38;5;28;01mfor\u001b[39;00m move_number, states \u001b[38;5;129;01min\u001b[39;00m \u001b[43mstates\u001b[49m\u001b[38;5;241;43m.\u001b[39;49m\u001b[43mitems\u001b[49m():\n\u001b[1;32m      2\u001b[0m     svg_elements \u001b[38;5;241m=\u001b[39m []   \n\u001b[1;32m      4\u001b[0m     num_states \u001b[38;5;241m=\u001b[39m \u001b[38;5;28mlen\u001b[39m(states)\n",
      "\u001b[0;31mAttributeError\u001b[0m: 'list' object has no attribute 'items'"
     ]
    }
   ],
   "source": [
    "for move_number, states in states.items():\n",
    "    svg_elements = []   \n",
    "\n",
    "    num_states = len(states)\n",
    "    num_rows = (num_states + num_columns - 1) // num_columns\n",
    "    \n",
    "    total_width = num_columns * label_width_px\n",
    "    total_height = num_rows * label_height_px\n",
    "    \n",
    "    # SVG header\n",
    "    svg_header = f'<svg xmlns=\"http://www.w3.org/2000/svg\" width=\"{total_width}\" height=\"{total_height}\">'\n",
    "    svg_elements.append(svg_header)\n",
    "\n",
    "    idx = 0\n",
    "    for state_id, board in states.items():\n",
    "        col = idx % num_columns\n",
    "        row = idx // num_columns\n",
    "        \n",
    "        x_offset = col * label_width_px\n",
    "        y_offset = row * label_height_px\n",
    "\n",
    "        label_text = int(state_id) + 1\n",
    "\n",
    "        svg_code = draw_label(board, label_text, x_offset, y_offset, cell_size)\n",
    "        svg_elements.append(svg_code)\n",
    "        idx += 1\n",
    "\n",
    "    svg_elements.append('</svg>')\n",
    "\n",
    "    svg_content = '\\n'.join(svg_elements)\n",
    "\n",
    "    # save the svg in the ./svg/ directory\n",
    "    os.makedirs(\"./svg\", exist_ok=True)\n",
    "    filename = f'svg/move_{move_number}.svg'\n",
    "    with open(filename, 'w') as f:\n",
    "        f.write(svg_content)"
   ]
  },
  {
   "cell_type": "code",
   "execution_count": null,
   "metadata": {},
   "outputs": [],
   "source": []
  }
 ],
 "metadata": {
  "kernelspec": {
   "display_name": "Python 3",
   "language": "python",
   "name": "python3"
  },
  "language_info": {
   "codemirror_mode": {
    "name": "ipython",
    "version": 3
   },
   "file_extension": ".py",
   "mimetype": "text/x-python",
   "name": "python",
   "nbconvert_exporter": "python",
   "pygments_lexer": "ipython3",
   "version": "3.11.2"
  }
 },
 "nbformat": 4,
 "nbformat_minor": 2
}
